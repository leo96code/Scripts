{
 "cells": [
  {
   "cell_type": "code",
   "execution_count": null,
   "id": "6b6c7cd2-7b10-464b-aa07-f50c6503252f",
   "metadata": {},
   "outputs": [],
   "source": [
    "from osgeo import gdal\n",
    "import rasterio\n",
    "import gdal\n",
    "from PIL import Image\n",
    "from PIL.ExifTags import TAGS"
   ]
  },
  {
   "cell_type": "code",
   "execution_count": null,
   "id": "461d8e03-8b0a-42fc-97e3-1d78c2ba8f54",
   "metadata": {},
   "outputs": [],
   "source": [
    "#copy metadata of src images to other images\n",
    "from PIL import Image\n",
    "import os\n",
    "from tqdm import tqdm\n",
    "op_dir  ='out'\n",
    "ip_src_path ='src'\n",
    "ip_des_path ='dest'\n",
    "images = os.listdir(ip_des_path)\n",
    "for _, i in tqdm(enumerate(images)):\n",
    "    src_img = Image.open(os.path.join(ip_src_path, i))\n",
    "    des_img = Image.open(os.path.join(ip_des_path, i))\n",
    "    exif = src_img.info['exif']\n",
    "    print(exif)\n",
    "    des_img.save(op_dir + \"\\\\\" + i +\".jpg\", exif=exif)\n",
    "    \n",
    "# exif = im.info['exif']\n",
    "# print(exif)\n",
    "# im2.save('P4072956_test.jpg', exif=exif)\n",
    "\n"
   ]
  },
  {
   "cell_type": "code",
   "execution_count": null,
   "id": "b4d6b428-ea4a-4f9e-a148-82fd624f60fd",
   "metadata": {},
   "outputs": [],
   "source": [
    "import cv2\n",
    "img = Image.open('P4072956_test.jpg')"
   ]
  },
  {
   "cell_type": "code",
   "execution_count": null,
   "id": "4f0f7411-d1bb-4261-8678-03c6b6fa0f88",
   "metadata": {},
   "outputs": [],
   "source": [
    "exifdata_ot = img.getexif()\n",
    "exifdata_ot = exifdata_ot"
   ]
  },
  {
   "cell_type": "code",
   "execution_count": null,
   "id": "3e2160c8-daae-4d0f-bc97-0ccf77ff2933",
   "metadata": {},
   "outputs": [],
   "source": [
    "#print meta data\n",
    "for tag_id in exifdata_ot:\n",
    "    # get the tag name, instead of human unreadable tag id\n",
    "    tag = TAGS.get(tag_id, tag_id)\n",
    "    data = exifdata_ot.get(tag_id)\n",
    "    # decode bytes \n",
    "    if isinstance(data, bytes):\n",
    "        data = data.decode()\n",
    "    print(f\"{tag:25}: {data}\")"
   ]
  }
 ],
 "metadata": {
  "kernelspec": {
   "display_name": "Python 3",
   "language": "python",
   "name": "python3"
  },
  "language_info": {
   "codemirror_mode": {
    "name": "ipython",
    "version": 3
   },
   "file_extension": ".py",
   "mimetype": "text/x-python",
   "name": "python",
   "nbconvert_exporter": "python",
   "pygments_lexer": "ipython3",
   "version": "3.6.13"
  }
 },
 "nbformat": 4,
 "nbformat_minor": 5
}
