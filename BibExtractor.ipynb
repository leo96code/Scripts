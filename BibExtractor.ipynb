{
  "nbformat": 4,
  "nbformat_minor": 0,
  "metadata": {
    "colab": {
      "provenance": [],
      "authorship_tag": "ABX9TyOyw6XkbsYe41gbeqypqDH5",
      "include_colab_link": true
    },
    "kernelspec": {
      "name": "python3",
      "display_name": "Python 3"
    },
    "language_info": {
      "name": "python"
    }
  },
  "cells": [
    {
      "cell_type": "markdown",
      "metadata": {
        "id": "view-in-github",
        "colab_type": "text"
      },
      "source": [
        "<a href=\"https://colab.research.google.com/github/leo96code/Scripts/blob/main/BibExtractor.ipynb\" target=\"_parent\"><img src=\"https://colab.research.google.com/assets/colab-badge.svg\" alt=\"Open In Colab\"/></a>"
      ]
    },
    {
      "cell_type": "code",
      "execution_count": 23,
      "metadata": {
        "colab": {
          "base_uri": "https://localhost:8080/"
        },
        "id": "RNlb40r7qDIR",
        "outputId": "b0986fd1-e037-454c-e481-1efcfd30586a"
      },
      "outputs": [
        {
          "output_type": "stream",
          "name": "stdout",
          "text": [
            "['Gray-level co-occurrence matrix', 'Machine learning', 'Plant-level', 'Tomato yield prediction', 'Unmanned aerial vehicle']\n",
            "['UAV', 'canopy nitrogen content', 'entire growth duration', 'high NUE phenotype', 'high throughput phenotyping']\n",
            "['artificial intelligence (AI)', 'greenery system', 'hyperspectral', 'machine learning', 'nature-based solution', 'remote sensing', 'thermal', 'urban agriculture', 'urban farming', 'urban vegetation', 'vertical green living wall (VGW)']\n",
            "['bentazone tolerance', 'herbicide', 'hyperspectral imagery', 'physiological parameters', 'soybean']\n",
            "['Hyperspectral imaging', 'Logistic regression', 'Needle leaf tree', 'Particulate matter', 'Spectral index', 'Spectroscopy']\n",
            "['Agriculture', 'Computer vision', 'Deep learning', 'Drone', 'Image classification', 'Remote sensing', 'Self-attention', 'Vision transformers']\n",
            "['Apple leaf disease identification', 'Complex environment', 'Imbalanced dataset', 'RegNet']\n",
            "['Cotton', 'Faster RCNN', 'Object detection', 'Population density', 'Video tracking']\n",
            "['modern agriculture', 'seedling identification', 'selective planting', 'transplanter', 'vision']\n",
            "['CNN', 'cold damage', 'corn', 'deep learning', 'high-throughput phenotyping', 'hyperspectral imaging']\n",
            "['Cereal growth stage', 'Convolutional neural networks', 'SVM classifier', 'Transfer learning']\n",
            "['Atmospheric radiative transfer models', 'Empirical line method', 'Incident radiation', 'Reflectance products', 'UAV-remote sensing']\n",
            "['Crop height', 'Leaf area index', 'Plant phenotyping', 'Structure from motion', 'UAV']\n",
            "['Arabidopsis', 'Arabidopsis Thaliana', 'Computer Vision', 'Greenhouse', 'Image Analysis', 'Image Processing', 'PSI Systems', 'Plant Imaging', 'Plant Science', 'Timelapse']\n",
            "['Channel compression', 'Depthwise separable convolution', 'Lightweight Enhance ShuffleNet', 'Pinecone detection', 'YOLOv4-Tiny']\n",
            "['Crop coefficient', 'Dynamic modelling', 'Internet-of-Things', 'Quality-of-Service', 'Sweet basil']\n",
            "['Background soil influence', 'Protein content', 'Vegetation indices', 'Wheat monitoring', 'Yield']\n",
            "['Agent-based model', 'Agricultural sensors', 'Genetic algorithms', 'Geostatistics', 'UAVs']\n",
            "['Biomass', 'Data-fusion', 'LAI', 'Machine learning', 'PLS-R', 'SVM']\n",
            "['Mobile laser scanning', 'Total grid area', 'Total leaf area', 'Variable-rate spraying']\n"
          ]
        }
      ],
      "source": [
        "#Bibtext File Keyword Extractor\n",
        "'''\n",
        "1. Download .bib/txt file from Mendeley/Zotero/EndNote\n",
        "2. Replace the file path.\n",
        "'''\n",
        "\n",
        "import re\n",
        "def extract_keywords(bibtex_file):\n",
        "    keywords = ''\n",
        "    with open(bibtex_file, 'r') as f:\n",
        "        for line in f:\n",
        "            if 'keywords' in line:\n",
        "                keywords = re.findall(r'\\{(.*?)\\}', line)\n",
        "                keywords = keywords[0].split(',')\n",
        "                print(keywords)\n",
        "\n",
        "extract_keywords('library.bib')"
      ]
    }
  ]
}